{
 "cells": [
  {
   "cell_type": "code",
   "execution_count": 3,
   "id": "7d3db6f9",
   "metadata": {},
   "outputs": [],
   "source": [
    "%load_ext autoreload\n",
    "%autoreload 2"
   ]
  },
  {
   "cell_type": "code",
   "execution_count": 1,
   "id": "cf016d3a",
   "metadata": {},
   "outputs": [
    {
     "data": {
      "text/plain": [
       "['model.joblib']"
      ]
     },
     "execution_count": 1,
     "metadata": {},
     "output_type": "execute_result"
    }
   ],
   "source": []
  },
  {
   "cell_type": "code",
   "execution_count": 13,
   "id": "987f879b",
   "metadata": {},
   "outputs": [
    {
     "name": "stdout",
     "output_type": "stream",
     "text": [
      "total 24\r\n",
      "-rw-r--r--  1 jdlourenco  staff  1956 Nov 16 09:49 Untitled.ipynb\r\n",
      "-rw-r--r--  1 jdlourenco  staff  1111 Nov 16 09:29 model.joblib\r\n",
      "-rw-r--r--  1 jdlourenco  staff  1111 Nov 16 09:50 pipeline.joblib\r\n"
     ]
    }
   ],
   "source": [
    "! ls -l"
   ]
  },
  {
   "cell_type": "code",
   "execution_count": 15,
   "id": "00eec7cf",
   "metadata": {},
   "outputs": [
    {
     "name": "stdout",
     "output_type": "stream",
     "text": [
      "load data\n",
      "holdout\n",
      "2\n"
     ]
    },
    {
     "ename": "AttributeError",
     "evalue": "'Trainer' object has no attribute 'pipeline'",
     "output_type": "error",
     "traceback": [
      "\u001b[0;31m---------------------------------------------------------------------------\u001b[0m",
      "\u001b[0;31mAttributeError\u001b[0m                            Traceback (most recent call last)",
      "\u001b[0;32m/var/folders/2n/bhyt_f3d5h70tdt47x2qcz980000gn/T/ipykernel_28777/2590954508.py\u001b[0m in \u001b[0;36m<module>\u001b[0;34m\u001b[0m\n\u001b[1;32m      2\u001b[0m \u001b[0;34m\u001b[0m\u001b[0m\n\u001b[1;32m      3\u001b[0m \u001b[0mtrainer\u001b[0m \u001b[0;34m=\u001b[0m \u001b[0mTrainer\u001b[0m\u001b[0;34m(\u001b[0m\u001b[0;34m)\u001b[0m\u001b[0;34m\u001b[0m\u001b[0;34m\u001b[0m\u001b[0m\n\u001b[0;32m----> 4\u001b[0;31m \u001b[0mtrainer\u001b[0m\u001b[0;34m.\u001b[0m\u001b[0mtrain\u001b[0m\u001b[0;34m(\u001b[0m\u001b[0;34m)\u001b[0m\u001b[0;34m\u001b[0m\u001b[0;34m\u001b[0m\u001b[0m\n\u001b[0m",
      "\u001b[0;32m~/dev/lewagon/batch-750/day2/iris/iris/trainer.py\u001b[0m in \u001b[0;36mtrain\u001b[0;34m(self)\u001b[0m\n\u001b[1;32m     23\u001b[0m         \u001b[0;31m# print(X_train.shape, X_test.shape, y_train.shape, y_test.shape)\u001b[0m\u001b[0;34m\u001b[0m\u001b[0;34m\u001b[0m\u001b[0;34m\u001b[0m\u001b[0m\n\u001b[1;32m     24\u001b[0m \u001b[0;34m\u001b[0m\u001b[0m\n\u001b[0;32m---> 25\u001b[0;31m         \u001b[0mself\u001b[0m\u001b[0;34m.\u001b[0m\u001b[0mfit\u001b[0m\u001b[0;34m(\u001b[0m\u001b[0;34m)\u001b[0m\u001b[0;34m\u001b[0m\u001b[0;34m\u001b[0m\u001b[0m\n\u001b[0m\u001b[1;32m     26\u001b[0m         \u001b[0mprint\u001b[0m\u001b[0;34m(\u001b[0m\u001b[0;34m\"create pipeline\"\u001b[0m\u001b[0;34m)\u001b[0m\u001b[0;34m\u001b[0m\u001b[0;34m\u001b[0m\u001b[0m\n\u001b[1;32m     27\u001b[0m         \u001b[0mself\u001b[0m\u001b[0;34m.\u001b[0m\u001b[0mpipeline\u001b[0m \u001b[0;34m=\u001b[0m \u001b[0mIrisPackage\u001b[0m\u001b[0;34m(\u001b[0m\u001b[0;34m)\u001b[0m\u001b[0;34m.\u001b[0m\u001b[0mget_pipeline\u001b[0m\u001b[0;34m(\u001b[0m\u001b[0;34m)\u001b[0m\u001b[0;34m\u001b[0m\u001b[0;34m\u001b[0m\u001b[0m\n",
      "\u001b[0;32m~/dev/lewagon/batch-750/day2/iris/iris/trainer.py\u001b[0m in \u001b[0;36mfit\u001b[0;34m(self)\u001b[0m\n\u001b[1;32m     10\u001b[0m     \u001b[0;32mdef\u001b[0m \u001b[0mfit\u001b[0m\u001b[0;34m(\u001b[0m\u001b[0mself\u001b[0m\u001b[0;34m)\u001b[0m\u001b[0;34m:\u001b[0m\u001b[0;34m\u001b[0m\u001b[0;34m\u001b[0m\u001b[0m\n\u001b[1;32m     11\u001b[0m         \u001b[0mprint\u001b[0m\u001b[0;34m(\u001b[0m\u001b[0mself\u001b[0m\u001b[0;34m.\u001b[0m\u001b[0mvar1\u001b[0m\u001b[0;34m)\u001b[0m\u001b[0;34m\u001b[0m\u001b[0;34m\u001b[0m\u001b[0m\n\u001b[0;32m---> 12\u001b[0;31m         \u001b[0mself\u001b[0m\u001b[0;34m.\u001b[0m\u001b[0mpipeline\u001b[0m\u001b[0;34m.\u001b[0m\u001b[0mfit\u001b[0m\u001b[0;34m(\u001b[0m\u001b[0mself\u001b[0m\u001b[0;34m.\u001b[0m\u001b[0mX_train\u001b[0m\u001b[0;34m,\u001b[0m \u001b[0mself\u001b[0m\u001b[0;34m.\u001b[0m\u001b[0my_train\u001b[0m\u001b[0;34m)\u001b[0m\u001b[0;34m\u001b[0m\u001b[0;34m\u001b[0m\u001b[0m\n\u001b[0m\u001b[1;32m     13\u001b[0m \u001b[0;34m\u001b[0m\u001b[0m\n\u001b[1;32m     14\u001b[0m     \u001b[0;32mdef\u001b[0m \u001b[0msave_model\u001b[0m\u001b[0;34m(\u001b[0m\u001b[0mself\u001b[0m\u001b[0;34m)\u001b[0m\u001b[0;34m:\u001b[0m\u001b[0;34m\u001b[0m\u001b[0;34m\u001b[0m\u001b[0m\n",
      "\u001b[0;31mAttributeError\u001b[0m: 'Trainer' object has no attribute 'pipeline'"
     ]
    }
   ],
   "source": [
    "from iris.trainer import Trainer\n",
    "\n",
    "trainer = Trainer()\n",
    "trainer.train()"
   ]
  },
  {
   "cell_type": "code",
   "execution_count": null,
   "id": "1ee65c84",
   "metadata": {},
   "outputs": [],
   "source": [
    "trainer = Trainer({\"regressor\": \"random_forest\", \"nrow\"=1000, \"params\"={\"learning_rate\": 12, }})\n",
    "trainer = Trainer({\"regressor\": \"linear_regressor\", \"nrow\"=4000})"
   ]
  },
  {
   "cell_type": "code",
   "execution_count": 17,
   "id": "08f2c38e",
   "metadata": {},
   "outputs": [
    {
     "name": "stdout",
     "output_type": "stream",
     "text": [
      "non memoized calls differ:\n",
      "0.9674493750541335\n",
      "0.8707226440860815\n",
      "0.23407932243750273\n",
      "0.1645900096068289\n",
      "non memoized calls differ:\n",
      "0.660489438564021\n",
      "0.13834386699649182\n"
     ]
    }
   ],
   "source": [
    "from memoized_property import memoized_property\n",
    "from random import random\n",
    "\n",
    "class Car():\n",
    "    def get_random_value(self):\n",
    "        return random()\n",
    "\n",
    "car = Car()\n",
    "print('non memoized calls differ:')\n",
    "print(car.get_random_value())\n",
    "print(car.get_random_value())\n",
    "print(car.get_random_value())\n",
    "print(car.get_random_value())\n",
    "\n",
    "car2 = Car()\n",
    "print('non memoized calls differ:')\n",
    "print(car2.get_random_value())\n",
    "print(car2.get_random_value())\n"
   ]
  },
  {
   "cell_type": "code",
   "execution_count": 21,
   "id": "12073136",
   "metadata": {},
   "outputs": [
    {
     "name": "stdout",
     "output_type": "stream",
     "text": [
      "memoized property return the same value:\n",
      "0.08680179906535557\n",
      "0.08680179906535557\n",
      "0.08680179906535557\n",
      "0.08680179906535557\n",
      "0.08680179906535557\n",
      "0.08680179906535557\n",
      "memoized property return the same value:\n",
      "0.4716206582365814\n",
      "0.4716206582365814\n"
     ]
    }
   ],
   "source": [
    "class MemoizedCar():\n",
    "    @memoized_property\n",
    "    def get_random_value(self):\n",
    "        return random()\n",
    "\n",
    "car = MemoizedCar()\n",
    "print('memoized property return the same value:')\n",
    "print(car.get_random_value)\n",
    "print(car.get_random_value)\n",
    "print(car.get_random_value)\n",
    "print(car.get_random_value)\n",
    "print(car.get_random_value)\n",
    "print(car.get_random_value)\n",
    "\n",
    "car2 = MemoizedCar()\n",
    "print('memoized property return the same value:')\n",
    "print(car2.get_random_value)\n",
    "print(car2.get_random_value)"
   ]
  }
 ],
 "metadata": {
  "kernelspec": {
   "display_name": "Python 3 (ipykernel)",
   "language": "python",
   "name": "python3"
  },
  "language_info": {
   "codemirror_mode": {
    "name": "ipython",
    "version": 3
   },
   "file_extension": ".py",
   "mimetype": "text/x-python",
   "name": "python",
   "nbconvert_exporter": "python",
   "pygments_lexer": "ipython3",
   "version": "3.8.12"
  }
 },
 "nbformat": 4,
 "nbformat_minor": 5
}
